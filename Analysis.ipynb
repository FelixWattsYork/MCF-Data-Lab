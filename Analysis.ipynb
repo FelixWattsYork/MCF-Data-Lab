{
 "cells": [
  {
   "cell_type": "code",
   "execution_count": null,
   "metadata": {},
   "outputs": [
    {
     "ename": "",
     "evalue": "",
     "output_type": "error",
     "traceback": [
      "\u001b[1;31mRunning cells with 'base (Python 3.9.20)' requires the ipykernel package.\n",
      "\u001b[1;31mRun the following command to install 'ipykernel' into the Python environment. \n",
      "\u001b[1;31mCommand: 'conda install -n base ipykernel --update-deps --force-reinstall'"
     ]
    }
   ],
   "source": [
    "from matplotlib import pyplot as plt\n",
    "from matplotlib import image as mpimg\n",
    "import numpy as np\n",
    "\n",
    "import pandas as pd\n",
    "\n",
    "file_path = 'intensity.dat'\n",
    "\n",
    "try:\n",
    "    # Assuming data is in a structured format like CSV or similar\n",
    "    df = pd.read_csv(file_path,delim_whitespace=True, header=None)\n",
    "    # Process the DataFrame\n",
    "    print(df)\n",
    "\n",
    "except FileNotFoundError:\n",
    "    print(\"File '{file_path}' not found.\")\n",
    "except Exception as e:\n",
    "    print(\"An error occurred: {e}\")\n",
    "\n"
   ]
  },
  {
   "cell_type": "code",
   "execution_count": null,
   "metadata": {},
   "outputs": [],
   "source": [
    "from matplotlib import pyplot as plt\n",
    "from matplotlib import image as mpimg\n",
    "import numpy as np\n",
    "\n",
    "import pandas as pd\n",
    "\n",
    "file_path = 'angle.dat'\n",
    "\n",
    "try:\n",
    "    # Assuming data is in a structured format like CSV or similar\n",
    "    df3 = pd.read_csv(file_path,delim_whitespace=True, header=None)\n",
    "    # Process the DataFrame\n",
    "    print(df3)\n",
    "\n",
    "except FileNotFoundError:\n",
    "    print(\"File '{file_path}' not found.\")\n",
    "except Exception as e:\n",
    "    print(\"An error occurred: {e}\")\n"
   ]
  },
  {
   "cell_type": "code",
   "execution_count": null,
   "metadata": {},
   "outputs": [],
   "source": [
    "y = []\n",
    "for x in range (0,300):\n",
    "    y.append(df[x][150])\n",
    "\n",
    "plt.plot(y)\n",
    "plt.plot(df.T[150])\n",
    "plt.show()"
   ]
  },
  {
   "cell_type": "code",
   "execution_count": null,
   "metadata": {},
   "outputs": [],
   "source": [
    "plt.imshow(df, cmap='viridis', interpolation='none')\n",
    "plt.colorbar()  # Add a colorbar to show the scale\n",
    "plt.title(\"2D Array as Image\")\n",
    "plt.xlabel(\"X-axis\")\n",
    "plt.ylabel(\"Y-axis\")\n",
    "plt.show()"
   ]
  },
  {
   "cell_type": "code",
   "execution_count": null,
   "metadata": {},
   "outputs": [],
   "source": [
    "file_path = 'lambda.dat'\n",
    "\n",
    "try:\n",
    "    # Assuming data is in a structured format like CSV or similar\n",
    "    df2 = pd.read_csv(file_path,delim_whitespace=True, header=None)\n",
    "    # Process the DataFrame\n",
    "    print(df2)\n",
    "\n",
    "except FileNotFoundError:\n",
    "    print(\"File '{file_path}' not found.\")\n",
    "except Exception as e:\n",
    "    print(\"An error occurred: {e}\")"
   ]
  },
  {
   "cell_type": "code",
   "execution_count": null,
   "metadata": {},
   "outputs": [],
   "source": [
    "file_path = 'angle.dat'\n",
    "\n",
    "try:\n",
    "    # Assuming data is in a structured format like CSV or similar\n",
    "    df3 = pd.read_csv(file_path,delim_whitespace=True, header=None)\n",
    "    # Process the DataFrame\n",
    "    print(df3)\n",
    "\n",
    "except FileNotFoundError:\n",
    "    print(\"File '{file_path}' not found.\")\n",
    "except Exception as e:\n",
    "    print(\"An error occurred: {e}\")"
   ]
  },
  {
   "cell_type": "code",
   "execution_count": null,
   "metadata": {},
   "outputs": [],
   "source": [
    "plt.imshow(df2, cmap='viridis', interpolation='none')\n",
    "plt.colorbar()  # Add a colorbar to show the scale\n",
    "plt.title(\"2D Array as Image\")\n",
    "plt.xlabel(\"X-axis\")\n",
    "plt.ylabel(\"Y-axis\")\n",
    "plt.show()"
   ]
  },
  {
   "cell_type": "code",
   "execution_count": null,
   "metadata": {},
   "outputs": [],
   "source": [
    "plt.plot(df2.T[150],df.T[150],color='blue', marker='o')\n",
    "\n",
    "# Add labels and title\n",
    "plt.title(\"Basic Scatter Plot\")\n",
    "plt.xlabel(\"X-axis Label\")\n",
    "plt.ylabel(\"Y-axis Label\")\n",
    "\n",
    "# Show the plot\n",
    "plt.show()"
   ]
  },
  {
   "cell_type": "code",
   "execution_count": null,
   "metadata": {},
   "outputs": [],
   "source": [
    "\n",
    "import icf\n",
    "xdata = []\n",
    "ydata = []\n",
    "angledata = []\n",
    "for n in range (0,min(len(df2),len(df))):\n",
    "    xdata.append(np.array(df2.T[n]))\n",
    "    ydata.append(np.array(df.T[n]))\n",
    "    angledata.append(np.array(df3.T[n]))\n",
    "# Data Mask\n",
    "xdata_masked = []\n",
    "ydata_masked = []\n",
    "angledata_masked = []\n",
    "for n in range (len(xdata)):\n",
    "    xcut0 = icf . find_closest ( xdata[n] , 0)\n",
    "    xcut1 = icf . find_closest ( xdata[n] , 6500 )\n",
    "    xcut2 = icf . find_closest ( xdata[n] , 6650 )\n",
    "    xcut3 = icf . find_closest ( xdata[n] , 6870 )\n",
    "    xcut4 = icf . find_closest ( xdata[n] , 7000 )\n",
    "    xcut5 = icf . find_closest ( xdata[n] , 8000)\n",
    "    xdata_cut = np.concatenate((xdata[n] [xcut5: xcut4],xdata[n] [ xcut3 : xcut2], xdata[n] [ xcut1 :xcut0]))\n",
    "    ydata_cut = np.concatenate((ydata[n] [xcut5: xcut4],ydata[n] [ xcut3 : xcut2], ydata[n] [ xcut1 :xcut0]))\n",
    "    angle_cut = np.concatenate((angledata[n] [xcut5: xcut4],angledata[n] [ xcut3 : xcut2], angledata[n] [ xcut1 :xcut0]))\n",
    "    xdata_masked.append(xdata_cut)\n",
    "    ydata_masked.append(ydata_cut)\n",
    "    angledata_masked.append(angle_cut)\n",
    "\n",
    "\n"
   ]
  },
  {
   "cell_type": "code",
   "execution_count": null,
   "metadata": {},
   "outputs": [],
   "source": [
    "plt.plot(xdata_masked[150],ydata_masked[150],color='blue', marker='o')\n",
    "\n",
    "# Add labels and title\n",
    "plt.title(\"Basic Scatter Plot\")\n",
    "plt.xlabel(\"X-axis Label\")\n",
    "plt.ylabel(\"Y-axis Label\")\n",
    "\n",
    "# Show the plot\n",
    "plt.show()"
   ]
  },
  {
   "cell_type": "code",
   "execution_count": null,
   "metadata": {},
   "outputs": [],
   "source": [
    "wavelength_peak = []"
   ]
  },
  {
   "cell_type": "code",
   "execution_count": null,
   "metadata": {},
   "outputs": [],
   "source": [
    "import numpy as np\n",
    "from scipy.optimize import curve_fit\n",
    "import icf\n",
    "p = 4\n",
    "none_convergence = 0\n",
    "\n",
    "# This function will generate a perfect Gaussian \n",
    "# You can replace this function with any other you want to fit with...\n",
    "def gaussian(x, *params):\n",
    "\n",
    "\tA = params[0]\n",
    "\tx0 = params[1]\n",
    "\tc = params[2]\n",
    "\ty0 = params[3]\n",
    "\ty1 = params[4]\n",
    "\t\n",
    "\treturn y0 + y1*x+ A*np.exp(-(x-x0)**2/(2*c*c))\n",
    "\n",
    "def super_gaussian(x, *params):\n",
    "\n",
    "\tA = params[0]\n",
    "\tx0 = params[1]\n",
    "\tc = params[2]\n",
    "\ty0 = params[3]\n",
    "\ty1 = params[4]\n",
    "\t\n",
    "\treturn y0 + y1*x+ A*np.exp(-((x-x0)/(np.sqrt(2)*c))**(p))\n",
    "\n",
    "\n",
    "\t\n",
    "yfit  = []\n",
    "for n in range(0,len(xdata_masked)):\n",
    "\tyfit.append([])\n",
    "calculated_radius = []\n",
    "calculated_radius_error = []\n",
    "angles = []\n",
    "#\n",
    "# This makes a gaussian using these x points\n",
    "for n in range(len(xdata_masked)):\n",
    "\ttry:\n",
    "\t\tprint(n)\n",
    "\t\tprint(\"got here\")\n",
    "\n",
    "\n",
    "\t\t#\n",
    "\t\t# This section will do a fit\n",
    "\t\t#\n",
    "\n",
    "\t\t# This does the fit, and returns the fit parameters and the covariances\n",
    "\n",
    "\t\tguess = [int(np.max(ydata_masked[n])-np.min(ydata_masked[n])),6943,int(400/(2*np.sqrt(2*np.log(2)))),int(np.min(ydata_masked[n])),(ydata[n][-1]-ydata[n][0])/(xdata[n][-1]+0.01)]\n",
    "\t\t#guess = [int(np.max(ydata_masked[n])-np.min(ydata_masked[n])),int(xdata_masked[n][np.argmax(ydata_masked[n])]),100,0,0]\n",
    "\t\tprint(\"guest\")\n",
    "\t\tprint(\"Our initial guess is\", guess)\n",
    "\t\tpopt, pcov = curve_fit(gaussian, xdata_masked[n], ydata_masked[n], p0=guess)\n",
    "\n",
    "\t\tfor i in range(len(popt)):\n",
    "\t\t\tprint (\"Parameter\",i,\":\",popt[i],\"+/-\",np.sqrt(pcov[i][i]))\n",
    "\t\t\t\n",
    "\t\tprint(\"Fit parameters : \", popt)\n",
    "\t\tprint(\"Fit standard deviations : \", np.sqrt(np.diag(pcov)))\n",
    "\n",
    "\n",
    "\t\t# This generates a new list with a Gaussian using the identified fit parameters\n",
    "\t\t# This data is therefore the best fit curve \n",
    "\t\tyfit[n] = super_gaussian(xdata_masked[n], *popt)\n",
    "\n",
    "\t\tprint(\"R^2 = \", icf.r_squared(ydata[n], yfit[n]))\n",
    "\t\tcalculated_radius.append(abs(popt[2]*2*np.sqrt(2*np.log(2))))\n",
    "\t\tprint(calculated_radius)\n",
    "\t\tangles.append(df3[0][n])\n",
    "\t\tcalculated_radius_error.append(np.sqrt(pcov[2][2])*2*np.sqrt(2*np.log(2)))\n",
    "\n",
    "\t\t# This will plot the output, both the original data and the best fit, as well as a residual\n",
    "\t\t# Note this is a special plotting routine written for the icf labs, hence the 'icf' prefix\n",
    "\t\t# The source code can be found in icf.py if you want to copy/alter it\n",
    "\t\ticf.fit_plot(xdata_masked[n],xdata_masked[n], ydata_masked[n],ydata_masked[n], yfit[n],xl = 'Distance ($\\mu m$)',yl = \"Greyscale Value\")\n",
    "\t\twavelength_peak.append(popt[1])\n",
    "\t\tprint(wavelength_peak)\n",
    "\texcept:\n",
    "\t\tprint(\"didn't converge\")\n",
    "\t\tnone_convergence +=1"
   ]
  },
  {
   "cell_type": "code",
   "execution_count": null,
   "metadata": {},
   "outputs": [],
   "source": [
    "print(df3[0])"
   ]
  },
  {
   "cell_type": "code",
   "execution_count": null,
   "metadata": {},
   "outputs": [],
   "source": [
    "print(none_convergence)"
   ]
  },
  {
   "cell_type": "code",
   "execution_count": null,
   "metadata": {},
   "outputs": [],
   "source": [
    "plt.plot(calculated_radius)\n",
    "print(calculated_radius)\n",
    "plt.show()"
   ]
  },
  {
   "cell_type": "code",
   "execution_count": null,
   "metadata": {},
   "outputs": [],
   "source": [
    "me = 9.109*10**(-31)\n",
    "inc = 694.3*10**(-9)\n",
    "kb = 1.38*10**(-23)\n",
    "c = 3*10**8\n",
    "temps = []\n",
    "print(len(calculated_radius))\n",
    "print(angles)\n",
    "print(len(angles))\n",
    "for n in range(len(calculated_radius)):\n",
    "    temps.append(((calculated_radius[n]*10**(-10))**2*me*c**2)/(4*inc**2*kb*(np.sin(angles[n]/2))**2))\n",
    "plt.scatter(angles,temps)\n",
    "plt.ylim(0,0.6*10**8)\n",
    "plt.show()"
   ]
  }
 ],
 "metadata": {
  "kernelspec": {
   "display_name": "base",
   "language": "python",
   "name": "python3"
  },
  "language_info": {
   "codemirror_mode": {
    "name": "ipython",
    "version": 3
   },
   "file_extension": ".py",
   "mimetype": "text/x-python",
   "name": "python",
   "nbconvert_exporter": "python",
   "pygments_lexer": "ipython3",
   "version": "3.9.20"
  }
 },
 "nbformat": 4,
 "nbformat_minor": 2
}
