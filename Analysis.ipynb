{
 "cells": [
  {
   "cell_type": "code",
   "execution_count": 5,
   "metadata": {},
   "outputs": [
    {
     "name": "stdout",
     "output_type": "stream",
     "text": [
      "     0    1    2    3    4    5     6    7    8    9    ...  292  293  294  \\\n",
      "0    2.0 -0.0 -0.0  2.0  1.0  1.0   0.0  1.0 -0.0 -0.0  ...  0.0  0.0  0.0   \n",
      "1    1.0  1.0  1.0  2.0  3.0  0.0   0.0  2.0  2.0  0.0  ...  0.0  0.0  0.0   \n",
      "2   -0.0 -0.0  0.0  1.0  1.0 -0.0   0.0  1.0  3.0  0.0  ...  0.0  0.0  0.0   \n",
      "3    0.0 -0.0  1.0  0.0  1.0  2.0  -0.0  1.0 -0.0  0.0  ...  0.0  0.0  0.0   \n",
      "4    0.0  4.0 -0.0  2.0  1.0 -0.0   0.0  4.0 -0.0  0.0  ...  0.0  0.0  0.0   \n",
      "..   ...  ...  ...  ...  ...  ...   ...  ...  ...  ...  ...  ...  ...  ...   \n",
      "279  2.0 -0.0  0.0  3.0  2.0  0.0  10.0  4.0  4.0  2.0  ...  0.0  0.0  0.0   \n",
      "280  3.0  0.0  4.0  1.0 -0.0 -0.0  -0.0 -0.0  1.0  0.0  ...  0.0  0.0  0.0   \n",
      "281  0.0  1.0  0.0  0.0  3.0  1.0  -0.0 -0.0  1.0  0.0  ...  0.0  0.0  0.0   \n",
      "282  0.0  0.0 -0.0 -0.0  1.0  0.0  -0.0  4.0  1.0  0.0  ...  0.0  0.0  0.0   \n",
      "283 -0.0 -0.0 -0.0  1.0  4.0  2.0  -0.0  2.0  0.0  3.0  ...  0.0  0.0  0.0   \n",
      "\n",
      "     295  296  297  298  299  300  301  \n",
      "0    0.0  0.0  0.0  0.0  0.0  0.0  0.0  \n",
      "1    0.0  0.0  0.0  0.0  0.0  0.0  0.0  \n",
      "2    0.0  0.0  0.0  0.0  0.0  0.0  0.0  \n",
      "3    0.0  0.0  0.0  0.0  0.0  0.0  0.0  \n",
      "4    0.0  0.0  0.0  0.0  0.0  0.0  0.0  \n",
      "..   ...  ...  ...  ...  ...  ...  ...  \n",
      "279  0.0  0.0  0.0  0.0  0.0  0.0  0.0  \n",
      "280  0.0  0.0  0.0  0.0  0.0  0.0  0.0  \n",
      "281  0.0  0.0  0.0  0.0  0.0  0.0  0.0  \n",
      "282  0.0  0.0  0.0  0.0  0.0  0.0  0.0  \n",
      "283  0.0  0.0  0.0  0.0  0.0  0.0  0.0  \n",
      "\n",
      "[284 rows x 302 columns]\n"
     ]
    },
    {
     "name": "stderr",
     "output_type": "stream",
     "text": [
      "/tmp/ipykernel_24306/3259896530.py:11: FutureWarning: The 'delim_whitespace' keyword in pd.read_csv is deprecated and will be removed in a future version. Use ``sep='\\s+'`` instead\n",
      "  df = pd.read_csv(file_path,delim_whitespace=True, header=None)\n"
     ]
    }
   ],
   "source": [
    "from matplotlib import pyplot as plt\n",
    "from matplotlib import image as mpimg\n",
    "import numpy as np\n",
    "\n",
    "import pandas as pd\n",
    "\n",
    "file_path = 'intensity.dat'\n",
    "\n",
    "try:\n",
    "    # Assuming data is in a structured format like CSV or similar\n",
    "    df = pd.read_csv(file_path,sep='\\s+' header=None)\n",
    "    # Process the DataFrame\n",
    "    print(df)\n",
    "\n",
    "except FileNotFoundError:\n",
    "    print(\"File '{file_path}' not found.\")\n",
    "except Exception as e:\n",
    "    print(\"An error occurred: {e}\")\n",
    "\n"
   ]
  }
 ],
 "metadata": {
  "kernelspec": {
   "display_name": ".venv",
   "language": "python",
   "name": "python3"
  },
  "language_info": {
   "codemirror_mode": {
    "name": "ipython",
    "version": 3
   },
   "file_extension": ".py",
   "mimetype": "text/x-python",
   "name": "python",
   "nbconvert_exporter": "python",
   "pygments_lexer": "ipython3",
   "version": "3.12.3"
  }
 },
 "nbformat": 4,
 "nbformat_minor": 2
}
